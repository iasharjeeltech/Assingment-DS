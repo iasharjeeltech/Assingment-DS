{
 "cells": [
  {
   "cell_type": "code",
   "execution_count": 3,
   "id": "ba209473-453c-4f65-a3a6-79103f770947",
   "metadata": {},
   "outputs": [],
   "source": [
    "# Q1. Create one variable containing following type of data:\n",
    "# (i) string\n",
    "s = \"sharjeel\"\n",
    "# (ii) list\n",
    "list = [95,9.5,\"string\",5+3j,True]\n",
    "# (iii) float\n",
    "f= 2.4\n",
    "# (iv) tuple\n",
    "tuple = (1, 2, 'three', 4.5)"
   ]
  },
  {
   "cell_type": "code",
   "execution_count": 4,
   "id": "68dcd30a-0bad-4703-a371-9d83645ebecf",
   "metadata": {},
   "outputs": [],
   "source": [
    "# Q2. Given are some following variables containing data:\n",
    "# (i) var1 = ‘ ‘ \n",
    "# (ii) var2 = ‘[ DS , ML , Python]’\n",
    "# (iii) var3 = [ ‘DS’ , ’ML’ , ‘Python’ ]\n",
    "# (iv) var4 = 1.\n",
    "\n",
    "# first is string \n",
    "# second is also a string because it surrounded with qoute\n",
    "# third is list \n",
    "# fourth is float because of dot"
   ]
  },
  {
   "cell_type": "code",
   "execution_count": 5,
   "id": "40908a80-e597-43f3-9962-16e26c57c699",
   "metadata": {},
   "outputs": [
    {
     "name": "stdout",
     "output_type": "stream",
     "text": [
      "36\n"
     ]
    }
   ],
   "source": [
    "\n",
    "# Q3. Explain the use of the following operators using an example:\n",
    "# (i) / its a division operator which is used to divide the value like 20 divde to 4 answer is 5 we use \"/\" operator to this tasks.\n",
    "division = 20/4\n",
    "\n",
    "# (ii) % this operator is called modulos operator which is used to returns the remainder when the first operand is divided by the second operand.\n",
    "modulus = 10%3\n",
    "\n",
    "# (iii) // this operator is called floor operator which is work like divisio but not return quotient without decimal value.\n",
    "floor_divison = 8//3\n",
    "\n",
    "# (iv) ** exponential operator is raised the power of first operand to the power of the second operand.\n",
    "exponential = 6 ** 2\n",
    "print(exponential)"
   ]
  },
  {
   "cell_type": "code",
   "execution_count": 6,
   "id": "6f103345-4538-48dc-aef0-685d31977063",
   "metadata": {},
   "outputs": [
    {
     "name": "stdout",
     "output_type": "stream",
     "text": [
      "5 <class 'int'>\n",
      "PwSkills <class 'str'>\n",
      "3.14 <class 'float'>\n",
      "True <class 'bool'>\n",
      "[1, 2, 3] <class 'list'>\n",
      "Python <class 'str'>\n",
      "(10, 20) <class 'tuple'>\n",
      "{'Name': 'Sharjeel'} <class 'dict'>\n",
      "None <class 'NoneType'>\n",
      "9.99 <class 'float'>\n"
     ]
    }
   ],
   "source": [
    "# Q4. Create a list of length 10 of your choice containing multiple types of data. Using for loop print the\n",
    "# element and its data type.\n",
    "\n",
    "list = [5, 'PwSkills', 3.14, True, [1, 2, 3], 'Python', (10, 20), {'Name': 'Sharjeel'}, None, 9.99]\n",
    "\n",
    "for i in list:\n",
    "    print(i, type(i))"
   ]
  },
  {
   "cell_type": "code",
   "execution_count": 8,
   "id": "4f237ad6-6691-4309-ad39-31b9d1eb4f7f",
   "metadata": {},
   "outputs": [
    {
     "name": "stdin",
     "output_type": "stream",
     "text": [
      "Enter number A:  51\n",
      "Enter number B:  4\n"
     ]
    },
    {
     "name": "stdout",
     "output_type": "stream",
     "text": [
      "{a} is not divisible by {b}.\n"
     ]
    }
   ],
   "source": [
    "# Q5. Using a while loop, verify if the number A is purely divisible by number B and if so then how many\n",
    "# times it can be divisible.\n",
    "a = int(input(\"Enter number A: \"))\n",
    "b = int(input(\"Enter number B: \"))\n",
    "\n",
    "count = 0\n",
    "while a % b == 0:\n",
    "    count += 1\n",
    "    a //= b\n",
    "\n",
    "if count > 0:\n",
    "    print(\"{a} is divisible by {b} {count} times.\")\n",
    "else:\n",
    "    print(\"{a} is not divisible by {b}.\")"
   ]
  },
  {
   "cell_type": "code",
   "execution_count": 9,
   "id": "b955a141-b35e-49f3-8e57-cdcf88152ddb",
   "metadata": {},
   "outputs": [
    {
     "name": "stdout",
     "output_type": "stream",
     "text": [
      "{num} is not divisible by 3.\n",
      "{num} is not divisible by 3.\n",
      "{num} is not divisible by 3.\n",
      "{num} is divisible by 3.\n",
      "{num} is divisible by 3.\n",
      "{num} is divisible by 3.\n",
      "{num} is divisible by 3.\n",
      "{num} is not divisible by 3.\n",
      "{num} is divisible by 3.\n",
      "{num} is not divisible by 3.\n",
      "{num} is divisible by 3.\n",
      "{num} is divisible by 3.\n",
      "{num} is divisible by 3.\n",
      "{num} is not divisible by 3.\n",
      "{num} is divisible by 3.\n",
      "{num} is divisible by 3.\n",
      "{num} is divisible by 3.\n",
      "{num} is divisible by 3.\n",
      "{num} is not divisible by 3.\n",
      "{num} is divisible by 3.\n",
      "{num} is not divisible by 3.\n",
      "{num} is divisible by 3.\n",
      "{num} is divisible by 3.\n",
      "{num} is divisible by 3.\n",
      "{num} is not divisible by 3.\n"
     ]
    }
   ],
   "source": [
    "\n",
    "# Q6. Create a list containing 25 int type data. Using for loop and if-else condition print if the element is\n",
    "# divisible by 3 or not.\n",
    "\n",
    "list2 = [1, 5, 7, 9, 12, 15, 18, 20, 21, 25, 27, 30, 33, 35, 39, 42, 45, 48, 50, 51, 55, 57, 60, 63, 65]\n",
    "\n",
    "for num in list2:\n",
    "    if num % 3 == 0:\n",
    "        print(\"{num} is divisible by 3.\")\n",
    "    else:\n",
    "        print(\"{num} is not divisible by 3.\")"
   ]
  },
  {
   "cell_type": "code",
   "execution_count": 10,
   "id": "48f50dd6-6a8d-4f18-a972-985c13ba800d",
   "metadata": {},
   "outputs": [
    {
     "name": "stdout",
     "output_type": "stream",
     "text": [
      "[1, 2, 3, 4, 5]\n",
      "Hello\n"
     ]
    },
    {
     "ename": "TypeError",
     "evalue": "'str' object does not support item assignment",
     "output_type": "error",
     "traceback": [
      "\u001b[0;31m---------------------------------------------------------------------------\u001b[0m",
      "\u001b[0;31mTypeError\u001b[0m                                 Traceback (most recent call last)",
      "Cell \u001b[0;32mIn[10], line 15\u001b[0m\n\u001b[1;32m     12\u001b[0m string \u001b[38;5;241m=\u001b[39m \u001b[38;5;124m\"\u001b[39m\u001b[38;5;124mHello\u001b[39m\u001b[38;5;124m\"\u001b[39m\n\u001b[1;32m     13\u001b[0m \u001b[38;5;28mprint\u001b[39m(string)  \u001b[38;5;66;03m# Output: Hello\u001b[39;00m\n\u001b[0;32m---> 15\u001b[0m \u001b[43mstring\u001b[49m\u001b[43m[\u001b[49m\u001b[38;5;241;43m0\u001b[39;49m\u001b[43m]\u001b[49m \u001b[38;5;241m=\u001b[39m \u001b[38;5;124m\"\u001b[39m\u001b[38;5;124mJ\u001b[39m\u001b[38;5;124m\"\u001b[39m  \u001b[38;5;66;03m# This will give an error as strings are immutable\u001b[39;00m\n",
      "\u001b[0;31mTypeError\u001b[0m: 'str' object does not support item assignment"
     ]
    }
   ],
   "source": [
    "# Q7. What do you understand about mutable and immutable data types? Give examples for both showing\n",
    "# this property.\n",
    "\n",
    "# List is mutable object where we can assign new value or replace with old \n",
    "# eg:\n",
    "list3 = [1,5,3,4,5]\n",
    "list3[1]= 2\n",
    "print(list3)\n",
    "\n",
    "# string is immutable object we cant change the value of stringe \n",
    "# eg:\n",
    "string = \"Hello\"\n",
    "print(string)  # Output: Hello\n",
    "\n",
    "string[0] = \"J\"  # This will give an error as strings are immutable"
   ]
  },
  {
   "cell_type": "code",
   "execution_count": null,
   "id": "8bad39ae-55e0-44fe-861e-e73cd7e6630f",
   "metadata": {},
   "outputs": [],
   "source": []
  }
 ],
 "metadata": {
  "kernelspec": {
   "display_name": "Python 3 (ipykernel)",
   "language": "python",
   "name": "python3"
  },
  "language_info": {
   "codemirror_mode": {
    "name": "ipython",
    "version": 3
   },
   "file_extension": ".py",
   "mimetype": "text/x-python",
   "name": "python",
   "nbconvert_exporter": "python",
   "pygments_lexer": "ipython3",
   "version": "3.10.8"
  }
 },
 "nbformat": 4,
 "nbformat_minor": 5
}
