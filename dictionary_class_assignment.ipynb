{
  "nbformat": 4,
  "nbformat_minor": 0,
  "metadata": {
    "colab": {
      "provenance": [],
      "authorship_tag": "ABX9TyOyJAYAJP4Uw0UWbzcp3qvx",
      "include_colab_link": true
    },
    "kernelspec": {
      "name": "python3",
      "display_name": "Python 3"
    },
    "language_info": {
      "name": "python"
    }
  },
  "cells": [
    {
      "cell_type": "markdown",
      "metadata": {
        "id": "view-in-github",
        "colab_type": "text"
      },
      "source": [
        "<a href=\"https://colab.research.google.com/github/iasharjeeltech/Assingment-DS/blob/main/dictionary_class_assignment.ipynb\" target=\"_parent\"><img src=\"https://colab.research.google.com/assets/colab-badge.svg\" alt=\"Open In Colab\"/></a>"
      ]
    },
    {
      "cell_type": "markdown",
      "source": [
        "1. who developed python programming language?\n",
        "Ans : python programming language is developed by guido van rossum.he started workin on python in 1980. and the first realeasd on 1st feb 1991 version 0.9.0."
      ],
      "metadata": {
        "id": "kVeyMA8boZOU"
      }
    },
    {
      "cell_type": "markdown",
      "source": [
        "2. Which type of  programming does Python support?\n",
        "Ans: Python supports imperative, procedural, object-oriented, functional, scripting, dynamic, and metaprogramming programming paradigms."
      ],
      "metadata": {
        "id": "wAgsZKSZp4Nh"
      }
    },
    {
      "cell_type": "markdown",
      "source": [
        "3. Is python is case sensitive when dealing with identifiers?\n",
        "Ans: Yes, Python is case-sensitive when dealing with identifiers. This means that variable names, function names, class names, and other identifiers in Python must be written with consistent letter casing. For example, \"myVariable\" and \"myvariable\" would be treated as two different identifiers in Python."
      ],
      "metadata": {
        "id": "rd421durqW9T"
      }
    },
    {
      "cell_type": "markdown",
      "source": [
        "4. What is the correct ectendion of the Python file?\n",
        "Ans: The correct file extension for Python source code files is \".py.\"\n",
        "For example, you might name your Python file \"my_program.py\" or \"example_script.py.\" This extension is used to indicate that the file contains Python code.\n"
      ],
      "metadata": {
        "id": "y_NthJ4Hq_LV"
      }
    },
    {
      "cell_type": "markdown",
      "source": [
        "5. is python code compiled or interpreted?\n",
        "Ans: Python is primarily an interpreted language, which means the code is executed line by line. However, it can also compile code to bytecode for efficiency."
      ],
      "metadata": {
        "id": "bvciUzM7rgHc"
      }
    },
    {
      "cell_type": "markdown",
      "source": [
        "6. Name a few blocks of code used to define in python language?\n",
        "ans: conditional blocks (if, elif, else), loop blocks (for, while), and class blocks.\n"
      ],
      "metadata": {
        "id": "iCsZTrPysuBq"
      }
    },
    {
      "cell_type": "markdown",
      "source": [
        "7. State a character used to giv single-line comments in Python?\n",
        "Ans: n Python, a hash symbol (#) is used to indicate a single-line comment."
      ],
      "metadata": {
        "id": "x3bESlthtNep"
      }
    },
    {
      "cell_type": "markdown",
      "source": [
        "8. Mention functions which can help us to find the version of python that we are currently working on ?\n",
        "Ans: in cmd we easily use Python -v for finding the current version we using in it."
      ],
      "metadata": {
        "id": "Jj_9KhTzuL8a"
      }
    },
    {
      "cell_type": "markdown",
      "source": [
        "9. Python support the creation of annonymous functions at runtime, using a comstruct called LAMDA."
      ],
      "metadata": {
        "id": "-Xz8O_X_tt98"
      }
    },
    {
      "cell_type": "markdown",
      "source": [
        "10.  What does pip stand for in python?\n",
        "Ans: pip stand for pip install packages."
      ],
      "metadata": {
        "id": "Bckrk_f5u7gY"
      }
    },
    {
      "cell_type": "markdown",
      "source": [
        "11. Mention few built in functions in python?\n",
        "Ans: print(): Used to display output on the screen.\n",
        "len(): Returns the length of a sequence, such as a list, string, or tuple.\n",
        "type(): Returns the type of an object.\n",
        "input(): Reads user input from the console.\n",
        "int(): Converts a value to an integer.\n",
        "float(): Converts a value to a floating-point number.\n",
        "str(): Converts a value to a string.\n",
        "list(): Creates a list from an iterable.\n",
        "max(): Returns the largest item in an iterable.\n",
        "min(): Returns the smallest item in an iterable.\n",
        "abs(): Returns the absolute value of a number.\n",
        "sorted(): Returns a sorted list from an iterable.\n",
        "join(): Combines a list of strings into a single string using a specified delimiter.\n",
        "zip(): Combines multiple iterables into tuples.\n",
        "enumerate(): Provides index and value pairs for elements in an iterable.\n",
        "round(): Rounds a floating-point number to a specified number of decimal places.\n",
        "open(): Opens files for reading or writing.\n",
        "range(): Generates a sequence of numbers within a given range."
      ],
      "metadata": {
        "id": "YPOOlbvAvca0"
      }
    },
    {
      "cell_type": "markdown",
      "source": [
        "12. What is the maximum possible length of an identifier in Python?\n",
        "Ans: The maximum possible length of an identifier in the Python language is 79 characters.\n"
      ],
      "metadata": {
        "id": "sZUCPUgbwaH4"
      }
    },
    {
      "cell_type": "markdown",
      "source": [
        "13.What are the benefits of using python?\n",
        "Ans:\n",
        "The benefits of using Python include readability, versatility, a large standard library, strong community support, cross-platform compatibility, integration capabilities, rapid development, extensive third-party libraries, a strong presence in data science and machine learning, open-source nature, a robust job market, high developer productivity, security features, and educational value. Python's simplicity and active community make it a popular choice for various programming tasks and projects.\n"
      ],
      "metadata": {
        "id": "WgrjEVBnx64A"
      }
    },
    {
      "cell_type": "markdown",
      "source": [
        "14. How is memory managed in Python?\n",
        "Ans: Memory management in Python is handled through reference counting, garbage collection for cyclic references, and memory pools. Python automatically allocates and deallocates memory, relieving developers from manual memory management. This simplifies memory handling and helps prevent memory leaks."
      ],
      "metadata": {
        "id": "xe_P0QrAyjTw"
      }
    },
    {
      "cell_type": "markdown",
      "source": [
        "14. How to install python on windows and set path variables?\n",
        "Ans: first Download the Python installer from the official website. second search enviorment on windows search bar you find first option open it and give the path on envoirmental.\n",
        "after giving path check on cmd python -v for version is you python is working or not.\n"
      ],
      "metadata": {
        "id": "T1Hs4GsHzwnt"
      }
    },
    {
      "cell_type": "markdown",
      "source": [
        "16. is indentation is required in python?\n",
        "ans: Yes, indentation is required in Python. Indentation is not just a matter of style; it is a fundamental aspect of the Python language's syntax."
      ],
      "metadata": {
        "id": "TT9JM-Q00uh1"
      }
    },
    {
      "cell_type": "code",
      "source": [],
      "metadata": {
        "id": "_1sYjUMl1HZ3"
      },
      "execution_count": null,
      "outputs": []
    }
  ]
}